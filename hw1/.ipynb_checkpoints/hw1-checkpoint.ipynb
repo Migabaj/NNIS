{
 "cells": [
  {
   "cell_type": "markdown",
   "metadata": {
    "id": "P8tDK5A9OCM7"
   },
   "source": [
    "## Домашняя работа №1 Part1\n",
    "Вам предстоит:\n",
    "\n",
    "Написать персептрон с двумя слоями. Реализовать форвард и бэквард пропогейшен\n",
    "\n"
   ]
  },
  {
   "cell_type": "code",
   "execution_count": 1,
   "metadata": {
    "id": "c5IbKpsMN_F1"
   },
   "outputs": [],
   "source": [
    "import numpy as np\n",
    "from sklearn.metrics import classification_report\n",
    "import torch\n",
    "from torch.utils.data import DataLoader\n",
    "from torchvision.datasets import MNIST\n",
    "from torchvision import transforms\n",
    "import matplotlib.pyplot as plt\n",
    "from tqdm import tqdm\n",
    "from sklearn.metrics import accuracy_score\n",
    "import time"
   ]
  },
  {
   "cell_type": "markdown",
   "metadata": {
    "id": "zQRYevLNN_GA"
   },
   "source": [
    "# Датасет\n",
    "Загрузим Мнист. Почему именно он? Мы будем решать задачу бинарной классификации на паре цифр: 3 и 7. Плюсы в том, что примеров для этих чисел достаточно, чтобы обучить НС, у каждого примера не так много фичей (28Х28 - размерность картинок) и, в целом, эти классы хорошо отделяются. Я б с радостью показал вам пример с текстами, но если писать НС с нуля и пытаться обучаться на текстах, не факт, что у нас хоть что то обучится :(  \n",
    "  "
   ]
  },
  {
   "cell_type": "markdown",
   "metadata": {
    "id": "EtMN4ZlSN_GC"
   },
   "source": [
    "Торч - объект, который позволяет нормализовать картинки, можно думать о нем как о предобработке (регулярках) для текстов. В целом не стоит здесь долго думать"
   ]
  },
  {
   "cell_type": "code",
   "execution_count": 2,
   "metadata": {
    "id": "BMugicmkN_GE"
   },
   "outputs": [],
   "source": [
    "transform = transforms.Compose([\n",
    "    transforms.ToTensor(),\n",
    "    transforms.Normalize((0.1307,), (0.3081,))\n",
    "])"
   ]
  },
  {
   "cell_type": "markdown",
   "metadata": {
    "id": "actIVoMKN_GJ"
   },
   "source": [
    "Загружаем датасет. Возращается особенный торчовый класс, чуть ниже мы зададим его сами и научимся им полльзоваться, пока оставляем эз из.\n"
   ]
  },
  {
   "cell_type": "code",
   "execution_count": 3,
   "metadata": {
    "colab": {
     "base_uri": "https://localhost:8080/",
     "height": 255
    },
    "id": "fQpJqIWrN_GK",
    "outputId": "2ed59df6-e5df-4487-dc74-74950632d80c",
    "scrolled": true
   },
   "outputs": [
    {
     "name": "stdout",
     "output_type": "stream",
     "text": [
      "Downloading http://yann.lecun.com/exdb/mnist/train-images-idx3-ubyte.gz\n",
      "Downloading http://yann.lecun.com/exdb/mnist/train-images-idx3-ubyte.gz to ./MNIST/raw/train-images-idx3-ubyte.gz\n"
     ]
    },
    {
     "data": {
      "application/vnd.jupyter.widget-view+json": {
       "model_id": "16dc65635d0649889ef7c388e7b7ca62",
       "version_major": 2,
       "version_minor": 0
      },
      "text/plain": [
       "  0%|          | 0/9912422 [00:00<?, ?it/s]"
      ]
     },
     "metadata": {},
     "output_type": "display_data"
    },
    {
     "name": "stdout",
     "output_type": "stream",
     "text": [
      "Extracting ./MNIST/raw/train-images-idx3-ubyte.gz to ./MNIST/raw\n",
      "\n",
      "Downloading http://yann.lecun.com/exdb/mnist/train-labels-idx1-ubyte.gz\n",
      "Downloading http://yann.lecun.com/exdb/mnist/train-labels-idx1-ubyte.gz to ./MNIST/raw/train-labels-idx1-ubyte.gz\n"
     ]
    },
    {
     "data": {
      "application/vnd.jupyter.widget-view+json": {
       "model_id": "18fb4dc5653f4c85a79c2d086769f57f",
       "version_major": 2,
       "version_minor": 0
      },
      "text/plain": [
       "  0%|          | 0/28881 [00:00<?, ?it/s]"
      ]
     },
     "metadata": {},
     "output_type": "display_data"
    },
    {
     "name": "stdout",
     "output_type": "stream",
     "text": [
      "Extracting ./MNIST/raw/train-labels-idx1-ubyte.gz to ./MNIST/raw\n",
      "\n",
      "Downloading http://yann.lecun.com/exdb/mnist/t10k-images-idx3-ubyte.gz\n",
      "Downloading http://yann.lecun.com/exdb/mnist/t10k-images-idx3-ubyte.gz to ./MNIST/raw/t10k-images-idx3-ubyte.gz\n"
     ]
    },
    {
     "data": {
      "application/vnd.jupyter.widget-view+json": {
       "model_id": "63fa5cf38751430ca5a49a928727adeb",
       "version_major": 2,
       "version_minor": 0
      },
      "text/plain": [
       "  0%|          | 0/1648877 [00:00<?, ?it/s]"
      ]
     },
     "metadata": {},
     "output_type": "display_data"
    },
    {
     "name": "stdout",
     "output_type": "stream",
     "text": [
      "Extracting ./MNIST/raw/t10k-images-idx3-ubyte.gz to ./MNIST/raw\n",
      "\n",
      "Downloading http://yann.lecun.com/exdb/mnist/t10k-labels-idx1-ubyte.gz\n",
      "Downloading http://yann.lecun.com/exdb/mnist/t10k-labels-idx1-ubyte.gz to ./MNIST/raw/t10k-labels-idx1-ubyte.gz\n"
     ]
    },
    {
     "data": {
      "application/vnd.jupyter.widget-view+json": {
       "model_id": "fc6a535cca1440048d9fe163c185e91d",
       "version_major": 2,
       "version_minor": 0
      },
      "text/plain": [
       "  0%|          | 0/4542 [00:00<?, ?it/s]"
      ]
     },
     "metadata": {},
     "output_type": "display_data"
    },
    {
     "name": "stdout",
     "output_type": "stream",
     "text": [
      "Extracting ./MNIST/raw/t10k-labels-idx1-ubyte.gz to ./MNIST/raw\n",
      "\n",
      "Processing...\n"
     ]
    },
    {
     "name": "stderr",
     "output_type": "stream",
     "text": [
      "/opt/anaconda3/lib/python3.7/site-packages/torchvision/datasets/mnist.py:502: UserWarning: The given NumPy array is not writeable, and PyTorch does not support non-writeable tensors. This means you can write to the underlying (supposedly non-writeable) NumPy array using the tensor. You may want to copy the array to protect its data or make it writeable before converting it to a tensor. This type of warning will be suppressed for the rest of this program. (Triggered internally at  ../torch/csrc/utils/tensor_numpy.cpp:143.)\n",
      "  return torch.from_numpy(parsed.astype(m[2], copy=False)).view(*s)\n"
     ]
    },
    {
     "name": "stdout",
     "output_type": "stream",
     "text": [
      "Done!\n"
     ]
    }
   ],
   "source": [
    "train_dataset = MNIST('.', train=True, download=True, transform=transform)\n",
    "test_dataset = MNIST('.', train=False, transform=transform)"
   ]
  },
  {
   "cell_type": "markdown",
   "metadata": {
    "id": "aUSUIJbUN_GQ"
   },
   "source": [
    "Выбираем два класса. Если вы достаточно хорошо знакомы с пандас, то можно понять, что никакой магии здесь нет."
   ]
  },
  {
   "cell_type": "code",
   "execution_count": 4,
   "metadata": {
    "id": "vx73oHg9N_GS"
   },
   "outputs": [],
   "source": [
    "#фильтруем фичи (дата) по значению классификационных лэйблов (таргет), берем или цифру 3 или цифру 7\n",
    "train_dataset.data = train_dataset.data[(train_dataset.targets == 3) | (train_dataset.targets == 7)]\n",
    "train_dataset.targets = train_dataset.targets[(train_dataset.targets == 3) | (train_dataset.targets == 7)]\n",
    "#тоже самое для тестового набора\n",
    "test_dataset.data = test_dataset.data[(test_dataset.targets == 3) | (test_dataset.targets == 7)]\n",
    "test_dataset.targets = test_dataset.targets[(test_dataset.targets == 3) | (test_dataset.targets == 7)]\n",
    "#необходимы препроцессинг лейблов, видимо не все значения имею тип integer, а нам нужен именно этот тип функция лонг позволяет нам \n",
    "#        это сделать (self.long() is equivalent to self.to(torch.int64). See to())\n",
    "train_dataset.targets = (train_dataset.targets == 7).long()\n",
    "test_dataset.targets = (test_dataset.targets == 7).long()"
   ]
  },
  {
   "cell_type": "markdown",
   "metadata": {
    "id": "RHelnPG0N_GX"
   },
   "source": [
    "Мы неоднократно говорили, что НС обычно тренируются бачами, в торче есть удобный класс, который позволяет обернуть наши датасеты в итерируемый объект. Если не знаете что такое итерируемый объект, погуглите :) можно думать об этом как о списке с составными элементами (элемент - батч - набор примеров) "
   ]
  },
  {
   "cell_type": "code",
   "execution_count": 9,
   "metadata": {
    "id": "ENLomAueN_GZ"
   },
   "outputs": [],
   "source": [
    "train_loader = DataLoader(train_dataset, batch_size=128, shuffle=True)\n",
    "test_loader = DataLoader(test_dataset, batch_size=128, shuffle=False)"
   ]
  },
  {
   "cell_type": "markdown",
   "metadata": {
    "id": "CNVEJYNXN_Gd"
   },
   "source": [
    "Проверим, правда ли это картинки"
   ]
  },
  {
   "cell_type": "code",
   "execution_count": 11,
   "metadata": {
    "colab": {
     "base_uri": "https://localhost:8080/",
     "height": 420
    },
    "id": "-Kkv2jAKN_Ge",
    "outputId": "10a727e2-6340-4f62-91fa-6f0e441c86ac"
   },
   "outputs": [
    {
     "data": {
      "image/png": "[encoded data removed]",
      "text/plain": [
       "<Figure size 432x504 with 25 Axes>"
      ]
     },
     "metadata": {
      "needs_background": "light"
     },
     "output_type": "display_data"
    }
   ],
   "source": [
    "X, y = next(iter(train_loader))\n",
    "X = X.numpy() # перевод тензора в массив нумпай, просто изменение типа данных \n",
    "y = y.numpy()\n",
    "\n",
    "plt.figure(figsize=(6, 7))\n",
    "for i in range(25):\n",
    "    plt.subplot(5, 5, i+1)\n",
    "    plt.imshow(X[i].reshape(28, 28), cmap=plt.cm.Greys_r)\n",
    "    plt.title(y[i])\n",
    "    plt.axis('off')"
   ]
  },
  {
   "cell_type": "markdown",
   "metadata": {
    "id": "jL6Cd-7tb29_"
   },
   "source": [
    "Нам столько размерностей не нужно, поэтому давайте выпрямим матрицу, тем боле мы знаем что значение каждого пикселя независимо друг друга."
   ]
  },
  {
   "cell_type": "code",
   "execution_count": 13,
   "metadata": {
    "colab": {
     "base_uri": "https://localhost:8080/",
     "height": 34
    },
    "id": "98g7689ON_Hc",
    "outputId": "007d721e-ebd9-4752-d948-97887b4917bd"
   },
   "outputs": [
    {
     "data": {
      "text/plain": [
       "torch.Size([128, 1])"
      ]
     },
     "execution_count": 13,
     "metadata": {},
     "output_type": "execute_result"
    }
   ],
   "source": [
    "w = torch.rand(784, 1) #Рандомные необученые веса\n",
    "pred = X.matmul(w)\n",
    "pred.shape"
   ]
  },
  {
   "cell_type": "markdown",
   "metadata": {
    "id": "Rb1hswcGeEpc"
   },
   "source": [
    "Теперь у нас есть предсказания и их размерность (128,1). Нужно будет счтить лосс с у, поэтому приведем его к такой же размерности с expand_dims - это функция есть в нумпае, также есть и в торче"
   ]
  },
  {
   "cell_type": "code",
   "execution_count": 14,
   "metadata": {
    "id": "wAIFQMfwN_Hl"
   },
   "outputs": [],
   "source": [
    "y = np.expand_dims(y, 1)"
   ]
  },
  {
   "cell_type": "markdown",
   "metadata": {
    "id": "TFAKpwY_N_H_"
   },
   "source": [
    "Итерация по эпохам"
   ]
  },
  {
   "cell_type": "code",
   "execution_count": 15,
   "metadata": {
    "colab": {
     "base_uri": "https://localhost:8080/",
     "height": 68
    },
    "id": "DWmQFlyWN_IB",
    "outputId": "5317f355-03fc-443c-90b2-811c563ac813"
   },
   "outputs": [
    {
     "name": "stdout",
     "output_type": "stream",
     "text": [
      "Эпоха - 1, прошли - 100.00 % датасета\n",
      "Эпоха - 2, прошли - 100.00 % датасета\n",
      "Эпоха - 3, прошли - 100.00 % датасета\n"
     ]
    }
   ],
   "source": [
    "epochs = 3\n",
    "\n",
    "for n_epoch in range(epochs):\n",
    "    \n",
    "    dataset_passed_samples = 0\n",
    "    \n",
    "    for x, y in train_loader:\n",
    "        \n",
    "        # вот здесь мы могли бы как-то манипулировать с данными, например, учить, но пока этого делать не будет\n",
    "        \n",
    "        time.sleep(0.05)\n",
    "        \n",
    "        dataset_passed_samples += x.shape[0]\n",
    "        \n",
    "        dataset_passed_percent = dataset_passed_samples * 100 / train_loader.dataset.data.shape[0]\n",
    "        \n",
    "        print(f'Эпоха - {n_epoch + 1}, прошли - {dataset_passed_percent:.2f} % датасета', end='\\r')\n",
    "        \n",
    "    print('\\r')"
   ]
  },
  {
   "cell_type": "markdown",
   "metadata": {
    "id": "8iBd9MS_f7Eg"
   },
   "source": [
    "# Однослойный персептрон"
   ]
  },
  {
   "cell_type": "code",
   "execution_count": 16,
   "metadata": {
    "colab": {
     "base_uri": "https://localhost:8080/",
     "height": 102
    },
    "id": "x9wKt3z1gIo7",
    "outputId": "1eff2785-550d-4042-b511-05a050f71c96",
    "scrolled": true
   },
   "outputs": [
    {
     "name": "stdout",
     "output_type": "stream",
     "text": [
      "Epoch: 1\n",
      "Epoch: 2\n",
      "Epoch: 3\n",
      "Epoch: 4\n",
      "Epoch: 5\n"
     ]
    }
   ],
   "source": [
    "learning_rate = 0.01 # тот самый лернинг рейт, который определяет какую часть от градиента мы будем брать\n",
    "epochs = 5  #сколько раз мы пройдем по всему тренировачному набору наших данных\n",
    "\n",
    "batch_size = 128  #это число примеров в баче понадобится нам при обучении чтобы усреднять лосс (ошибку обучения)\n",
    "n_feat = 784\n",
    "\n",
    "w1 = np.random.rand(n_feat,1)*0.01 #0.01 - нормируем таким образом наши веса, чтобы избежать деления на ноль при бэкпропе, \n",
    "                                    #эмпирически выбрано, так как сами фичи у нас имеют значения близкие к 0\n",
    "b1 = np.zeros(1) #размерность должна совпадать с количеством параметров, которые у нас останутся после матричного перемножения\n",
    "\n",
    "losses = [] #на каждой итерации (и для всех эпох) будем сохранять сюда наш Лосс, чтобы видеть обучается ли НС\n",
    "\n",
    "for n_epoch in range(epochs):\n",
    "    \n",
    "    print(f'Epoch: {n_epoch + 1}')\n",
    "    \n",
    "    for x, y in train_loader:\n",
    "        \n",
    "        x = x.view(x.shape[0], -1).numpy() #приводим к размерности (128,784)\n",
    "        y = np.expand_dims(y.numpy(), 1) #приводим к размерности (128,1)\n",
    "        \n",
    "        h1 = x.dot(w1) + b1 #переход в одномерное пространство\n",
    "        p = 1/(1+np.exp(-h1)) #преобразование в \"вероятности\"\n",
    "        \n",
    "        bce = (-np.sum(np.multiply(np.log(p), y) + np.multiply((1 - y), np.log(1 - p)))) / batch_size \n",
    "        #расчет энтропии с усреднением по размеру бача\n",
    "        \n",
    "        losses.append(bce) \n",
    "        #ниже производная bce и sigmoid, если вы распишите две этих производные, перемножите и сократите, то полчится следующая строчка\n",
    "        dp = (p - y) / batch_size\n",
    "        dw1 = np.dot(x.T, dp) # производная по линейному преобразванию, относительно W - весов \n",
    "        db1 = np.sum(dp) # производная по лин преобразованиюб относительно В - баяса, \n",
    "        #здесь по идее должно быть перемножение на единичный вектор (128,1), но это тоже самое что и сумма значениеб типа лайф хак\n",
    "        \n",
    "        w1 -= learning_rate * dw1 # Обновим веса и баясы \n",
    "        b1 -= learning_rate * db1\n",
    "\n",
    "        "
   ]
  },
  {
   "cell_type": "markdown",
   "metadata": {
    "id": "Lc3-pw-4wMum"
   },
   "source": [
    "А теперь построим график функции потерь"
   ]
  },
  {
   "cell_type": "code",
   "execution_count": 17,
   "metadata": {
    "colab": {
     "base_uri": "https://localhost:8080/",
     "height": 747
    },
    "id": "NvB4U5OXhE3t",
    "outputId": "6248bafc-51df-44a5-fc44-5c47efd21817"
   },
   "outputs": [
    {
     "data": {
      "text/plain": [
       "Text(0, 0.5, 'Loss function')"
      ]
     },
     "execution_count": 17,
     "metadata": {},
     "output_type": "execute_result"
    },
    {
     "data": {
      "image/png": "[encoded data removed]",
      "text/plain": [
       "<Figure size 1008x864 with 1 Axes>"
      ]
     },
     "metadata": {
      "needs_background": "light"
     },
     "output_type": "display_data"
    }
   ],
   "source": [
    "plt.figure(figsize=(14, 12))\n",
    "plt.plot(losses)\n",
    "plt.grid()\n",
    "plt.title('Training process')\n",
    "plt.xlabel('Iterations')\n",
    "plt.ylabel('Loss function')"
   ]
  },
  {
   "cell_type": "markdown",
   "metadata": {
    "id": "IfpCVrN2tO5S"
   },
   "source": [
    "## Математика \n",
    "\n",
    "\n",
    "![alt text](https://sun9-39.userapi.com/c850608/v850608777/47a4/fgZlI898IUU.jpg)\n",
    "![alt text](https://sun9-41.userapi.com/c858216/v858216777/cc4f5/v3CPa-tnm80.jpg)\n",
    "![alt text](https://sun9-67.userapi.com/c857632/v857632471/f6e95/H0dsmWsUInc.jpg)\n",
    "![alt text](https://sun9-71.userapi.com/c858120/v858120274/10d0ef/hdKO-3Syk3g.jpg)\n",
    "\n"
   ]
  },
  {
   "cell_type": "markdown",
   "metadata": {
    "id": "ToNAC3-bN_IN"
   },
   "source": [
    "А теперь ваша очередь, нужно написать двуслоный персептрон, согласно коду и выкладкам выше"
   ]
  },
  {
   "cell_type": "code",
   "execution_count": 18,
   "metadata": {
    "id": "yJSR8hdTN_IO",
    "outputId": "a929058d-7946-40e3-e9d7-f9bad80b1de3",
    "scrolled": true
   },
   "outputs": [
    {
     "name": "stdout",
     "output_type": "stream",
     "text": [
      "Epoch: 1\n",
      "Epoch: 2\n",
      "Epoch: 3\n",
      "Epoch: 4\n",
      "Epoch: 5\n",
      "Epoch: 6\n",
      "Epoch: 7\n",
      "Epoch: 8\n",
      "Epoch: 9\n",
      "Epoch: 10\n"
     ]
    }
   ],
   "source": [
    "### КОД СЮДА ###\n",
    "\n",
    "learning_rate = 0.01\n",
    "epochs = 10\n",
    "\n",
    "batch_size = 128\n",
    "n_feat = 784\n",
    "\n",
    "w1 = np.random.rand(n_feat,300)*0.01\n",
    "b1 = np.zeros(300)\n",
    "w2 = np.random.rand(300,1)*0.01\n",
    "b2 = np.zeros(1)\n",
    "\n",
    "losses = []\n",
    "\n",
    "for n_epoch in range(epochs):\n",
    "    \n",
    "    print(f'Epoch: {n_epoch + 1}')\n",
    "    \n",
    "    for x, y in train_loader:\n",
    "        \n",
    "        x = x.view(x.shape[0], -1).numpy()\n",
    "        y = np.expand_dims(y.numpy(), 1)\n",
    "        \n",
    "        ### КОД СЮДА ###\n",
    "        batch_size = x.shape[0]\n",
    "        \n",
    "        # forward\n",
    "        z1 = x.dot(w1) + b1 #(128, 300)\n",
    "        a1 = 1/(1+np.exp(-z1)) #(128, 300)\n",
    "        z2 = a1.dot(w2) + b2 #(128, 1)\n",
    "        a2 = 1/(1+np.exp(-z2)) #(128, 1)\n",
    "        \n",
    "        # рассчет bce\n",
    "        bce = (-np.sum(np.multiply(np.log(a2), y) + np.multiply((1 - y), np.log(1 - a2)))) / batch_size\n",
    "        losses.append(bce)\n",
    "        \n",
    "        # backward\n",
    "        dLoss_dz2 = (a2 - y) / batch_size #(b_s, 1)\n",
    "        dLoss_dw2 = np.dot(a1.T, dLoss_dz2) #(300, 1)\n",
    "        dLoss_db2 = np.array([np.sum(dLoss_dz2)]) #(1,)\n",
    "        \n",
    "        dz2_dz1 = w2.T*a1*(1-a1)  #(b_s, 300)\n",
    "        \n",
    "        dLoss_dz1 = dLoss_dz2*dz2_dz1 #(b_s, 300)\n",
    "        dLoss_dw1 = x.T.dot(dLoss_dz1) #(784, 300)\n",
    "        dLoss_db1 = np.sum(dLoss_dz1, axis=0) #(300,)\n",
    "        \n",
    "        # gradient descent\n",
    "        w2 -= learning_rate * dLoss_dw2\n",
    "        b2 -= learning_rate * dLoss_db2\n",
    "        w1 -= learning_rate * dLoss_dw1\n",
    "        b1 -= learning_rate * dLoss_db1"
   ]
  },
  {
   "cell_type": "markdown",
   "metadata": {
    "id": "ur7SqyVGN_IY"
   },
   "source": [
    "## Подсказки по размерностям\n",
    "\n",
    "### Forward\n",
    "\n",
    "- z1 - первое линейное преобразование - (BATCH_SIZE, INNER_FEATURES)\n",
    "- a1 - Применение нелинейности - (BATCH_SIZE, INNER_FEATURES)\n",
    "- z2 - второе нелинейное преобразование - (BATCH_SIZE, 1)\n",
    "- pred or A2- сигмоида - (BATCH_SIZE, 1)\n",
    "- loss - функция потерь - скаляр\n",
    "\n",
    "### Backward\n",
    "\n",
    "- d_BCE/d_pred - градиент функции потерь по pred - (BATCH_SIZE, 1)\n",
    "- d_pred/dz2 - градиент сигмоиды по z2 - (BATCH_SIZE, 1)\n",
    "- dz2/da1 - градиент линейного преобразования по a1 - (BATCH_SIZE, INNER_FEATURES)\n",
    "- dz2/dw2 - градиент линейного преобразования по w2 - (INNER_FEATURES, 1)\n",
    "- dz2/db2 - градиент линейного преобразования по b2 - (1,)\n",
    "- da1/dz1 - градиент нелинейной функции по z1 - (BATCH_SIZE, INNER_FEATURES)\n",
    "- dz1/dw1 - градиент линейного преобразования по w1 - (IN_FEATURES, INNER_FEATURES)\n",
    "- dz1/db1 - градиент линейного преобразования по b1 - (INNER_FEATURES,)"
   ]
  },
  {
   "cell_type": "markdown",
   "metadata": {
    "id": "ihOoASMAN_Ia"
   },
   "source": [
    "и график нарисуйте"
   ]
  },
  {
   "cell_type": "code",
   "execution_count": 19,
   "metadata": {
    "id": "CwRzXKRNN_Ic",
    "outputId": "a0cf5951-b66f-431d-9482-d258760039e1",
    "scrolled": false
   },
   "outputs": [
    {
     "data": {
      "image/png": "[encoded data removed]",
      "text/plain": [
       "<Figure size 1008x864 with 1 Axes>"
      ]
     },
     "metadata": {
      "needs_background": "light"
     },
     "output_type": "display_data"
    }
   ],
   "source": [
    "plt.figure(figsize=(14, 12))\n",
    "plt.plot(losses, color=\"maroon\")\n",
    "plt.grid()\n",
    "plt.title('Training process')\n",
    "plt.xlabel('Iterations')\n",
    "plt.ylabel('Loss function');"
   ]
  },
  {
   "cell_type": "markdown",
   "metadata": {
    "id": "axU2DnJ1IT1J"
   },
   "source": [
    "# Тестирование"
   ]
  },
  {
   "cell_type": "markdown",
   "metadata": {
    "id": "4sd8o1ZbIEXH"
   },
   "source": [
    "А как это тестировать? Да, очень просто нужно просто выполнять форвард без бэкворда, то есть последовательно применять преобразования с обученными весами"
   ]
  },
  {
   "cell_type": "code",
   "execution_count": 20,
   "metadata": {
    "id": "7DKeGWwzIliO"
   },
   "outputs": [],
   "source": [
    "losses_test = []\n",
    "predicted = []\n",
    "true_lbls = []\n",
    "\n",
    "for x, y in test_loader:\n",
    "    x = x.view(x.shape[0], -1).numpy()\n",
    "    y = np.expand_dims(y.numpy(), 1)\n",
    "\n",
    "    h1 = x.dot(w1) + b1 #переход в одномерное пространство\n",
    "    p = 1/(1+np.exp(-h1)) #преобразование в \"вероятности\"\n",
    "  \n",
    "    bce = (-np.sum(np.multiply(np.log(p), y) + np.multiply((1 - y), np.log(1 - p)))) / batch_size \n",
    "    #расчет энтропии с усреднением по размеру бача\n",
    "\n",
    "    losses_test.append(bce)\n",
    "    predicted.extend(p)\n",
    "    true_lbls.extend(y) "
   ]
  },
  {
   "cell_type": "markdown",
   "metadata": {
    "id": "259SOuP5K2HR"
   },
   "source": [
    "Проверим, что для каждого семплау нас есть предсказание"
   ]
  },
  {
   "cell_type": "code",
   "execution_count": 21,
   "metadata": {
    "colab": {
     "base_uri": "https://localhost:8080/",
     "height": 34
    },
    "id": "J3NQGFxfJY-4",
    "outputId": "2f71ca0f-f296-481d-b076-1b80a4385b4e"
   },
   "outputs": [
    {
     "name": "stdout",
     "output_type": "stream",
     "text": [
      "2038 2038\n"
     ]
    }
   ],
   "source": [
    "print(len(predicted), len(true_lbls))"
   ]
  },
  {
   "cell_type": "markdown",
   "metadata": {
    "id": "xWJ3fjLhK9z4"
   },
   "source": [
    "Теперь применим стандартную Ф меру и оценим нашу модель"
   ]
  },
  {
   "cell_type": "code",
   "execution_count": 22,
   "metadata": {
    "colab": {
     "base_uri": "https://localhost:8080/",
     "height": 34
    },
    "id": "BbD-n9rVJlBe",
    "outputId": "1f3fb485-9ec7-42f6-aba8-6e390cef1b60"
   },
   "outputs": [
    {
     "name": "stdout",
     "output_type": "stream",
     "text": [
      "F1 score is equal to: 0.74\n"
     ]
    }
   ],
   "source": [
    "from sklearn.metrics import f1_score\n",
    "pred = np.array([round(i[0]) for i in predicted]) \n",
    "# У нас были вероятности а нужны классы поэтому просто округлим каждое значени и получим лейблы \n",
    "t_lbls = np.array(true_lbls).squeeze() #снимем лишнюю размерность\n",
    "f1 = f1_score(pred, t_lbls, average='weighted')\n",
    "print('F1 score is equal to: {0:0.02f}'.format(f1))"
   ]
  },
  {
   "cell_type": "markdown",
   "metadata": {
    "id": "vMxfUk9DLfNx"
   },
   "source": [
    "Сделайте тоже самое для своей модели..."
   ]
  },
  {
   "cell_type": "code",
   "execution_count": 23,
   "metadata": {
    "id": "plkig1rcLmG_"
   },
   "outputs": [],
   "source": [
    "losses_test = []\n",
    "predicted = []\n",
    "true_lbls = []\n",
    "\n",
    "for x, y in test_loader:\n",
    "    x = x.view(x.shape[0], -1).numpy()\n",
    "    y = np.expand_dims(y.numpy(), 1)\n",
    "\n",
    "    z1 = x.dot(w1) + b1\n",
    "    a1 = 1/(1+np.exp(-z1))\n",
    "    z2 = a1.dot(w2) + b2\n",
    "    a2 = 1/(1+np.exp(-z2))\n",
    "  \n",
    "    bce = (-np.sum(np.multiply(np.log(a2), y) + np.multiply((1 - y), np.log(1 - a2)))) / batch_size\n",
    "\n",
    "    losses_test.append(bce)\n",
    "    predicted.extend(a2)\n",
    "    true_lbls.extend(y)"
   ]
  },
  {
   "cell_type": "code",
   "execution_count": 24,
   "metadata": {
    "scrolled": true
   },
   "outputs": [
    {
     "name": "stdout",
     "output_type": "stream",
     "text": [
      "2038 2038\n"
     ]
    }
   ],
   "source": [
    "print(len(predicted), len(true_lbls))"
   ]
  },
  {
   "cell_type": "code",
   "execution_count": 25,
   "metadata": {},
   "outputs": [
    {
     "name": "stdout",
     "output_type": "stream",
     "text": [
      "F1 score is equal to: 0.97\n"
     ]
    }
   ],
   "source": [
    "from sklearn.metrics import f1_score\n",
    "pred = np.array([round(i[0]) for i in predicted]) \n",
    "t_lbls = np.array(true_lbls).squeeze()\n",
    "f1 = f1_score(pred, t_lbls, average='weighted')\n",
    "print('F1 score is equal to: {0:0.02f}'.format(f1))"
   ]
  },
  {
   "cell_type": "markdown",
   "metadata": {
    "id": "zHg6S-QgN_Mm"
   },
   "source": [
    "# Немного торча"
   ]
  },
  {
   "cell_type": "code",
   "execution_count": 233,
   "metadata": {
    "id": "rWON-EQvN_Mn"
   },
   "outputs": [],
   "source": [
    "import torch"
   ]
  },
  {
   "cell_type": "markdown",
   "metadata": {
    "id": "MYyJMcmQN_Mq"
   },
   "source": [
    "### Мы можем определить нашу модель как последовательность уже существующих слоев, как в керасе"
   ]
  },
  {
   "cell_type": "code",
   "execution_count": 234,
   "metadata": {
    "colab": {
     "base_uri": "https://localhost:8080/"
    },
    "id": "7WkLbwyAN_Mr",
    "outputId": "701a7938-6d56-4870-e967-99302c50b4f5"
   },
   "outputs": [
    {
     "data": {
      "text/plain": [
       "Sequential(\n",
       "  (linear_1): Linear(in_features=784, out_features=256, bias=True)\n",
       "  (relu): ReLU()\n",
       "  (linear_2): Linear(in_features=256, out_features=1, bias=True)\n",
       "  (sigmoid): Sigmoid()\n",
       ")"
      ]
     },
     "execution_count": 234,
     "metadata": {},
     "output_type": "execute_result"
    }
   ],
   "source": [
    "model = torch.nn.Sequential()\n",
    "\n",
    "model.add_module(name='linear_1', module=torch.nn.Linear(in_features=784, out_features=256))\n",
    "model.add_module(name='relu', module=torch.nn.ReLU())\n",
    "model.add_module(name='linear_2', module=torch.nn.Linear(in_features=256, out_features=1))\n",
    "model.add_module(name='sigmoid', module=torch.nn.Sigmoid())\n",
    "\n",
    "model"
   ]
  },
  {
   "cell_type": "markdown",
   "metadata": {
    "id": "xFnSynhmN_Mw"
   },
   "source": [
    "### Либо так"
   ]
  },
  {
   "cell_type": "code",
   "execution_count": 235,
   "metadata": {
    "colab": {
     "base_uri": "https://localhost:8080/"
    },
    "id": "NjBXbnSNN_Mx",
    "outputId": "8fc4430a-67b3-410d-b201-2a076d03c67a"
   },
   "outputs": [
    {
     "data": {
      "text/plain": [
       "Sequential(\n",
       "  (0): Linear(in_features=784, out_features=256, bias=True)\n",
       "  (1): ReLU()\n",
       "  (2): Linear(in_features=256, out_features=1, bias=True)\n",
       "  (3): Sigmoid()\n",
       ")"
      ]
     },
     "execution_count": 235,
     "metadata": {},
     "output_type": "execute_result"
    }
   ],
   "source": [
    "model = torch.nn.Sequential(\n",
    "    torch.nn.Linear(in_features=784, out_features=256),\n",
    "    torch.nn.ReLU(),\n",
    "    torch.nn.Linear(in_features=256, out_features=1),\n",
    "    torch.nn.Sigmoid()\n",
    ")\n",
    "\n",
    "model"
   ]
  },
  {
   "cell_type": "markdown",
   "metadata": {
    "id": "MKOnBBifN_M1"
   },
   "source": [
    "## А вот для чего нужно было писать в домашке классы\n",
    "## Для определения своих моделей/слоев/чего вам захочется нам нужно сделать такую структуру"
   ]
  },
  {
   "cell_type": "code",
   "execution_count": 236,
   "metadata": {
    "id": "iNXM6WnUN_M9"
   },
   "outputs": [],
   "source": [
    "# наследуемся от класса torch.nn.Module\n",
    "class MLP(torch.nn.Module):\n",
    "    \n",
    "    # определяем метод __init__\n",
    "    # он нужен для того, чтобы мы могли определить нужные нам слои, веса, сохраняемые операции\n",
    "    # \n",
    "    # передаем ссылку на самого себя первым параметром\n",
    "    # \n",
    "    # определяем любые другие передаваемые аргументы\n",
    "    # могут быть чем угодно: числа, словари, другие слои, другие модели и вообще все что угодно\n",
    "    # \n",
    "    def __init__(self, in_features, inner_features, out_features):\n",
    "        \n",
    "        # Главная задача этого метода - возможность использования в классе потомке, методов класса-родителя\n",
    "        # Вызываем __init__ родителя - torch.nn.Module\n",
    "        super().__init__()\n",
    "        \n",
    "        # определяем слои и все что захотим сохранять/использовать\n",
    "        self.linear_1 = torch.nn.Linear(in_features=in_features, out_features=inner_features)\n",
    "        self.non_linear_function = torch.nn.ReLU()\n",
    "        self.linear_2 = torch.nn.Linear(in_features=inner_features, out_features=out_features)\n",
    "        self.sigmoid = torch.nn.Sigmoid()\n",
    "        \n",
    "    # нам нужно обязательно реализовать метод forward\n",
    "    # это то, что нашей модели нужно делать, как оперировать с входными данными, как рассчитывать\n",
    "    # метод backward нам не нужно реализовывать, потому что в торче есть автоматическое дифференцирование\n",
    "    # главное, чтобы наши операции были дифференцируемы\n",
    "    # некоторые подробности можете узнать здесь:\n",
    "    # https://pytorch.org/tutorials/beginner/blitz/autograd_tutorial.html#sphx-glr-beginner-blitz-autograd-tutorial-py\n",
    "    # также список доступных дифференцируемых операций можете посмотреть здесь:\n",
    "    # https://pytorch.org/docs/stable/tensors.html\n",
    "    def forward(self, x):\n",
    "        \n",
    "        # наша привычная схема\n",
    "        x = self.linear_1(x)\n",
    "        x = self.non_linear_function(x)\n",
    "        x = self.linear_2(x)\n",
    "        x = self.sigmoid(x)\n",
    "        \n",
    "        return x\n",
    "    \n",
    "    # мы также можем реализовать любые другие полезные нам методы внутри класса"
   ]
  },
  {
   "cell_type": "code",
   "execution_count": 237,
   "metadata": {
    "id": "Ftetvx8MN_NA"
   },
   "outputs": [],
   "source": [
    "# определяем нашу модель\n",
    "model = MLP(in_features=784, inner_features=256, out_features=1)"
   ]
  },
  {
   "cell_type": "code",
   "execution_count": 238,
   "metadata": {
    "colab": {
     "base_uri": "https://localhost:8080/"
    },
    "id": "G3zivrXiN_ND",
    "outputId": "c9cc05c0-44ca-4bd6-d7bd-2207123cf41b",
    "scrolled": true
   },
   "outputs": [
    {
     "data": {
      "text/plain": [
       "MLP(\n",
       "  (linear_1): Linear(in_features=784, out_features=256, bias=True)\n",
       "  (non_linear_function): ReLU()\n",
       "  (linear_2): Linear(in_features=256, out_features=1, bias=True)\n",
       "  (sigmoid): Sigmoid()\n",
       ")"
      ]
     },
     "execution_count": 238,
     "metadata": {},
     "output_type": "execute_result"
    }
   ],
   "source": [
    "model"
   ]
  },
  {
   "cell_type": "code",
   "execution_count": 239,
   "metadata": {
    "colab": {
     "base_uri": "https://localhost:8080/"
    },
    "id": "pa4BG_t_N_NG",
    "outputId": "ac7dbe4a-e253-4ba5-f5ee-8da36cd5b715"
   },
   "outputs": [
    {
     "data": {
      "text/plain": [
       "torch.Size([256, 784])"
      ]
     },
     "execution_count": 239,
     "metadata": {},
     "output_type": "execute_result"
    }
   ],
   "source": [
    "# можем посмотреть веса\n",
    "model.linear_1.weight.shape"
   ]
  },
  {
   "cell_type": "code",
   "execution_count": 240,
   "metadata": {
    "id": "n2hPqcyxN_NQ"
   },
   "outputs": [],
   "source": [
    "# еще нам нужно задать функцию потерь \n",
    "criterion = torch.nn.BCELoss()"
   ]
  },
  {
   "cell_type": "code",
   "execution_count": 241,
   "metadata": {
    "id": "IEpYutCqN_Na"
   },
   "outputs": [],
   "source": [
    "# и оптимизатор, куда нужно передать параметры модели\n",
    "# параметры модели можно взять методом класса .parameters()\n",
    "optimizer = torch.optim.SGD(params=model.parameters(), lr=0.01)"
   ]
  },
  {
   "cell_type": "code",
   "execution_count": 242,
   "metadata": {
    "colab": {
     "base_uri": "https://localhost:8080/"
    },
    "id": "V-ssB6KsN_Nf",
    "outputId": "2538defa-f558-49d4-8103-e415be2c4d62",
    "scrolled": true
   },
   "outputs": [
    {
     "data": {
      "text/plain": [
       "[Parameter containing:\n",
       " tensor([[ 2.1009e-02, -3.1421e-02,  2.2510e-02,  ..., -3.3186e-02,\n",
       "          -4.5225e-03,  6.0088e-03],\n",
       "         [ 3.5539e-02, -8.7620e-03, -2.8575e-02,  ...,  1.7422e-02,\n",
       "          -1.9772e-02, -3.3387e-02],\n",
       "         [ 1.3133e-02,  2.7286e-02,  8.7107e-03,  ...,  1.1292e-02,\n",
       "          -3.0309e-02,  3.5930e-03],\n",
       "         ...,\n",
       "         [ 1.1332e-02,  3.2102e-02, -6.9868e-03,  ..., -4.7721e-05,\n",
       "           1.9760e-02, -9.3834e-03],\n",
       "         [-8.3112e-03, -1.6940e-02,  8.5474e-03,  ...,  3.0285e-03,\n",
       "           3.2349e-02, -1.6282e-02],\n",
       "         [-6.9683e-03, -2.2609e-02,  2.8765e-02,  ...,  2.9600e-02,\n",
       "           3.2813e-02, -1.4616e-02]], requires_grad=True),\n",
       " Parameter containing:\n",
       " tensor([-1.2385e-04, -1.8510e-02, -2.4015e-02, -2.8316e-02, -2.3301e-02,\n",
       "          3.3777e-02, -2.2065e-02,  1.7768e-02,  2.3967e-02,  6.1502e-03,\n",
       "         -1.6010e-02, -5.9424e-04,  1.0030e-02, -2.6229e-03, -1.2571e-02,\n",
       "          1.7888e-02, -1.0483e-02,  8.2728e-03, -3.5222e-02,  6.0135e-04,\n",
       "          3.1526e-02,  4.0231e-03,  4.0334e-03, -7.3839e-04, -9.3965e-03,\n",
       "         -2.1076e-02,  2.9437e-03, -3.4442e-02, -2.6259e-02, -7.8199e-04,\n",
       "         -1.9970e-02, -2.5476e-02, -2.6273e-02, -7.8103e-04,  2.5798e-02,\n",
       "          1.2457e-02,  6.5606e-05,  2.4454e-03,  2.1723e-03,  3.4846e-02,\n",
       "         -9.4381e-03,  2.0143e-02, -1.5495e-02, -2.1679e-02,  6.1387e-03,\n",
       "          1.4640e-02, -1.2414e-02,  3.3998e-02,  6.0334e-03, -1.1767e-03,\n",
       "          1.4258e-03,  1.5168e-02,  2.1928e-02, -2.9712e-02,  3.4427e-02,\n",
       "         -1.3854e-02, -1.6359e-02,  1.5855e-02, -1.9435e-02, -2.3207e-02,\n",
       "         -1.1001e-02,  2.1800e-02,  3.1462e-02, -1.4083e-03, -1.0295e-02,\n",
       "          3.4874e-02, -7.2721e-03, -2.4168e-02,  1.5455e-02,  1.9638e-02,\n",
       "         -1.3214e-02,  2.6867e-02, -9.8769e-03,  1.0520e-02,  2.4891e-02,\n",
       "          8.5632e-03,  3.3262e-02, -7.0211e-05,  3.4332e-02,  1.8472e-02,\n",
       "         -3.4032e-02, -3.3634e-03,  2.6823e-02,  3.0711e-02,  7.1794e-03,\n",
       "         -9.1676e-04,  1.7761e-02, -2.5044e-02, -6.2894e-03, -1.2716e-03,\n",
       "          6.5463e-03, -2.4131e-02,  2.6333e-02, -2.0018e-02, -1.6760e-02,\n",
       "         -2.8221e-02,  1.8452e-02,  1.2273e-02, -3.3572e-02,  3.4938e-03,\n",
       "          2.4835e-02,  2.5146e-02, -2.7870e-02, -3.2806e-02,  9.4831e-05,\n",
       "         -1.0527e-02,  2.8364e-02,  2.5403e-02, -3.4765e-02, -1.6154e-02,\n",
       "         -1.5267e-03,  3.0304e-02,  1.2471e-02, -1.8816e-02,  2.2286e-02,\n",
       "          1.4951e-02,  2.9340e-02, -9.6373e-03, -2.4339e-02,  2.9758e-02,\n",
       "          1.5928e-02, -1.1314e-02,  7.8372e-04,  7.4922e-04,  7.8513e-04,\n",
       "          2.5766e-02, -2.7150e-02,  1.1018e-02, -2.4941e-02, -2.8962e-03,\n",
       "         -4.6034e-03, -1.2806e-03, -1.4873e-03,  3.7598e-03,  2.4521e-02,\n",
       "         -1.1257e-02,  1.4471e-02,  1.1972e-03,  9.1087e-03, -2.1220e-02,\n",
       "         -2.2527e-03,  6.3748e-03,  9.2706e-03, -2.5806e-02,  2.6318e-02,\n",
       "          1.8505e-02,  1.3945e-02, -2.0213e-02, -1.8020e-02, -1.0549e-02,\n",
       "         -1.6339e-02, -1.8013e-02, -1.5583e-02, -2.1479e-03,  1.6621e-02,\n",
       "         -2.2773e-02,  1.3673e-02,  2.8498e-02,  5.3663e-03,  3.2143e-02,\n",
       "         -3.5636e-02,  2.7418e-02, -2.3764e-03, -1.6999e-02, -3.4150e-04,\n",
       "         -3.5460e-02,  3.3619e-02, -8.7335e-03, -3.5297e-02, -3.0600e-02,\n",
       "          1.8321e-03,  1.0918e-02,  1.2609e-02, -1.3615e-02, -2.8775e-02,\n",
       "         -1.1661e-02,  1.6661e-02,  9.5900e-03, -3.3164e-02,  2.1012e-02,\n",
       "          2.4131e-02, -1.6874e-03, -2.4749e-02, -2.8008e-02,  1.9124e-02,\n",
       "         -1.9421e-02,  3.3334e-02,  1.4227e-02,  3.0901e-02,  1.5897e-02,\n",
       "         -2.9120e-02,  2.9244e-02, -3.5053e-02, -1.1837e-02,  1.9144e-02,\n",
       "         -3.3788e-02, -3.3677e-02, -3.0444e-02,  1.8505e-02,  3.1341e-02,\n",
       "         -1.3950e-02, -1.6978e-02, -2.9457e-02, -3.1565e-03,  3.5548e-02,\n",
       "          1.3450e-02, -3.1767e-02, -1.3603e-02,  1.8824e-02, -3.5497e-02,\n",
       "         -2.1104e-02,  1.7760e-03, -8.9433e-03, -1.1115e-02, -3.4261e-02,\n",
       "          1.4934e-02,  1.5127e-02,  2.8886e-03, -2.8408e-02, -3.0410e-02,\n",
       "         -2.1961e-02,  7.1256e-03, -2.9988e-02, -3.1386e-02,  2.6858e-03,\n",
       "          1.9123e-02, -8.1144e-04,  2.2095e-02, -2.6567e-02, -8.6456e-03,\n",
       "          1.0882e-02, -2.0112e-02,  4.2782e-03, -2.9159e-03,  3.0746e-03,\n",
       "         -3.0281e-02,  1.9011e-02, -2.2814e-02,  2.9854e-02, -4.1200e-03,\n",
       "          2.5747e-03,  6.1592e-03,  1.6056e-02,  1.1438e-03,  8.8140e-03,\n",
       "          1.1737e-02,  1.1813e-02,  2.8917e-02,  1.2893e-02, -3.1703e-02,\n",
       "         -2.9123e-02, -1.3194e-03, -2.9400e-03, -1.0752e-02,  2.9793e-02,\n",
       "         -1.3678e-02], requires_grad=True),\n",
       " Parameter containing:\n",
       " tensor([[-4.8464e-02,  1.0143e-02,  3.4123e-02, -5.9368e-02, -8.5865e-03,\n",
       "          -2.5855e-02, -1.0538e-02, -2.1129e-02,  1.0667e-02,  2.4417e-02,\n",
       "           3.1923e-02,  4.7344e-03, -5.5277e-02,  3.0077e-02,  2.7043e-02,\n",
       "           4.7729e-02,  3.3043e-03, -2.5141e-02,  5.5536e-02,  2.5269e-02,\n",
       "           4.0354e-02,  2.2073e-02,  5.8340e-02, -7.5372e-04, -4.6690e-02,\n",
       "          -3.9129e-02,  5.4682e-02,  3.0075e-02,  3.5339e-02,  8.0977e-03,\n",
       "           2.3068e-02,  4.5366e-02,  3.2141e-02, -1.9203e-02, -5.7402e-02,\n",
       "          -2.8322e-02, -6.2252e-02, -2.6154e-02,  4.6072e-03,  3.7021e-02,\n",
       "          -4.2609e-03, -5.3158e-02, -3.9244e-02,  5.5564e-02, -1.6491e-02,\n",
       "          -2.1269e-04,  3.4589e-03, -1.1783e-02,  7.6229e-03, -5.4866e-02,\n",
       "           1.3728e-02,  3.7359e-02,  2.5818e-02, -1.9103e-02, -4.9690e-03,\n",
       "          -1.7715e-02, -5.4817e-02,  5.6151e-02, -4.2249e-02,  5.3471e-03,\n",
       "           1.8526e-02, -4.6049e-02,  2.6916e-02, -4.0817e-02, -7.7598e-04,\n",
       "           1.7420e-02,  5.9454e-03,  4.2214e-02, -2.0326e-02, -4.6982e-02,\n",
       "          -4.5443e-02,  2.0604e-02, -5.6776e-02,  4.7002e-02,  5.1813e-02,\n",
       "          -5.9837e-02, -1.5889e-02, -5.1133e-02, -5.9331e-02,  4.7817e-02,\n",
       "           3.0584e-02,  3.1104e-03, -2.3365e-02,  4.8647e-02, -8.6925e-04,\n",
       "           4.7980e-02, -6.1670e-02, -2.7772e-02, -5.0759e-02, -2.8149e-02,\n",
       "           3.3109e-02,  2.4541e-02, -2.2700e-02,  1.7685e-03,  4.7723e-02,\n",
       "          -3.1340e-02,  2.8358e-02, -5.8074e-02,  3.7905e-02,  5.2334e-03,\n",
       "          -3.0368e-02,  2.4751e-02, -4.4956e-03,  4.8968e-02, -1.6719e-02,\n",
       "          -5.3560e-02, -2.0037e-02, -4.6139e-02, -4.4921e-02, -4.0299e-02,\n",
       "           2.1067e-02,  4.1629e-02,  4.8754e-02,  3.1846e-02, -1.5064e-02,\n",
       "          -2.4961e-03,  5.3896e-02, -6.1851e-02, -2.5656e-02, -9.7255e-03,\n",
       "          -3.7963e-02, -5.1059e-02,  2.8211e-02, -2.0164e-02,  4.7677e-02,\n",
       "           2.2144e-02, -3.1471e-02,  4.3301e-02,  2.3033e-03, -3.6686e-02,\n",
       "           4.0323e-02, -2.0281e-02, -8.0410e-03,  4.0666e-02,  4.6778e-02,\n",
       "           3.3561e-03, -1.0629e-02, -5.3965e-02,  3.8097e-03,  2.8936e-02,\n",
       "           5.6006e-02, -1.5825e-02, -2.0212e-02,  4.8258e-02,  5.9306e-02,\n",
       "           3.1162e-02,  2.2393e-02,  5.8320e-02, -5.3394e-02, -3.5360e-02,\n",
       "           3.3440e-02, -1.4102e-02, -3.2228e-02, -1.4845e-02, -3.9617e-02,\n",
       "           4.5121e-02, -5.6701e-02, -3.3628e-02, -4.5763e-02,  7.8522e-05,\n",
       "          -1.0083e-02,  1.2114e-02, -4.9543e-02,  2.5827e-02, -1.6515e-03,\n",
       "          -4.4921e-02, -6.0706e-02,  4.2058e-02,  4.0410e-02, -4.2357e-02,\n",
       "          -3.5077e-02,  5.8201e-02, -1.0527e-02, -4.5970e-02,  1.9700e-02,\n",
       "           1.9089e-02,  3.6320e-02, -5.2814e-02,  5.7444e-02,  5.5980e-02,\n",
       "           2.8774e-02,  9.0757e-03, -4.9431e-02, -1.1041e-02,  2.8125e-02,\n",
       "           2.4130e-02, -5.9640e-02,  3.1719e-02,  2.7741e-02, -3.4803e-02,\n",
       "           2.5389e-02,  2.4749e-03,  5.0923e-02,  4.8243e-02,  7.6390e-03,\n",
       "          -5.6595e-02,  2.2622e-02,  5.4394e-02, -6.6637e-03,  2.8742e-02,\n",
       "          -3.8962e-02, -3.7151e-02,  2.0105e-02,  2.4338e-02, -6.1573e-02,\n",
       "           4.0287e-02, -2.5711e-02, -5.3211e-02, -6.1553e-02, -3.6841e-02,\n",
       "          -2.1273e-02, -3.5877e-02, -3.7916e-02,  4.5366e-02, -4.6488e-02,\n",
       "          -3.4395e-02, -1.6079e-02, -4.8893e-02,  4.8750e-02, -8.6064e-03,\n",
       "          -2.2474e-02,  8.1944e-03,  6.0421e-02,  8.0975e-03,  1.6486e-02,\n",
       "          -3.6482e-02,  6.2298e-02, -4.2805e-02,  5.6779e-02,  3.9347e-02,\n",
       "          -5.2034e-02,  4.3540e-02,  2.7729e-03, -3.6825e-02, -1.7536e-02,\n",
       "           4.2096e-02,  3.6974e-03,  2.1640e-02, -3.7474e-02,  2.0723e-02,\n",
       "          -2.4282e-03, -3.1459e-02, -5.0923e-02, -4.7849e-02, -6.2143e-02,\n",
       "          -5.2361e-02, -1.7106e-02,  6.1892e-02, -4.7575e-03,  4.9581e-03,\n",
       "           2.3947e-02, -7.3085e-03,  3.7501e-02,  3.7944e-02,  2.0091e-02,\n",
       "          -5.2686e-02]], requires_grad=True),\n",
       " Parameter containing:\n",
       " tensor([0.0452], requires_grad=True)]"
      ]
     },
     "execution_count": 242,
     "metadata": {},
     "output_type": "execute_result"
    }
   ],
   "source": [
    "# можем посмотреть на параметры нашей модели\n",
    "params = list(model.parameters())\n",
    "params"
   ]
  },
  {
   "cell_type": "markdown",
   "metadata": {
    "id": "5dnDbvw0N_No"
   },
   "source": [
    "# Обучим нашу модель"
   ]
  },
  {
   "cell_type": "code",
   "execution_count": 243,
   "metadata": {
    "colab": {
     "base_uri": "https://localhost:8080/",
     "height": 235
    },
    "id": "O8ayasdLN_Np",
    "outputId": "562e950a-927e-4dfa-971f-4248c56b5a9a"
   },
   "outputs": [],
   "source": [
    "# давайте сохранять значения нашей функции потерь каждую итерацию обучения\n",
    "losses = []\n",
    "\n",
    "# эта штука все еще отдает нам батчи данных\n",
    "# мы поговорим про нее позже\n",
    "for x, y in train_loader:\n",
    "\n",
    "    x = x.view(x.shape[0], -1)\n",
    "    y = y.unsqueeze(1).float()\n",
    "    \n",
    "    # обновим наши градиенты\n",
    "    # будем делать это каждую итерацию обучения\n",
    "    # потому что торч сохраняет в себе все градиенты пока не удалите таким образом рассчитанные градиенты\n",
    "    # \n",
    "    # НЕОБЯЗАТЕЛЬНЫЕ ДЕТАЛИ\n",
    "    # функция сохранения градиентов нужна для аккамуляции градиентов\n",
    "    # например, когда нам не хватает памяти на большой батч\n",
    "    # мы можем несколько раз прогнать forward на разных батчах\n",
    "    # наши градиенты будут сохраняться\n",
    "    # и только потом обновить через несколько итераций forward обновить наши веса\n",
    "    # таким образом у нас получается больше батч\n",
    "    # \n",
    "    optimizer.zero_grad()\n",
    "    \n",
    "    # \n",
    "    # предсказание нашей модели\n",
    "    # здесь торч сам сохраняет необходимую информацию\n",
    "    # чтобы понять эту логику у нас как раз и была часть домашки про собственные классы\n",
    "    # \n",
    "    # торч строит динамический граф вычислений\n",
    "    # то есть строит граф по тем операциям, которые вы определили в методе forward\n",
    "    # \n",
    "    # то есть торч понимает, что вы сначала применили линейное преобразование\n",
    "    # знает, где лежат веса для этого линейного преобразования\n",
    "    # знает, что вы затем применили релу\n",
    "    # затем опять линейное преобразование\n",
    "    # затем сигмоиду\n",
    "    # и вот таким образом торч выстроил граф\n",
    "    # который нужен будет для backpropogation\n",
    "    # \n",
    "    pred = model(x)\n",
    "    \n",
    "    # \n",
    "    # рассчитываем функцию потерь, добавляя в наш граф вычислений этот узел\n",
    "    # \n",
    "    loss = criterion(pred, y.float())\n",
    "    \n",
    "    # \n",
    "    # вызываем метод backward() от нашей функции потерь (это крайний узел нашего графа вычислений)\n",
    "    # этот метод проходит от конца графа в начало, вычисляя необходимые градиенты\n",
    "    # передаем градиенты на следующие узлы\n",
    "    # для весов сохраняет\n",
    "    # \n",
    "    # то есть это почти то же самое, что мы делали в домашке с классами\n",
    "    # \n",
    "    loss.backward()\n",
    "    \n",
    "    # \n",
    "    # теперь мы знаем необходимые градиенты и можем обновить веса с помощью градиентного спуска\n",
    "    # \n",
    "    optimizer.step()\n",
    "    \n",
    "    # \n",
    "    # сохраним текущее значение функции потерь, чтобы потом могли посмотреть на график\n",
    "    # очень важный момент: нам нужно отсоединить значение нашей фунции потерь от графа вычислений\n",
    "    # чтобы граф не строился дальше на каждой итерации обучения\n",
    "    # так мы рано или поздно переполним память\n",
    "    # поэтому вызываем этот метод\n",
    "    # работает для скаляров\n",
    "    # \n",
    "    # для тензоров работает метод .tolist()\n",
    "    # \n",
    "    current_loss_value = loss.item()\n",
    "    losses.append(loss.item())"
   ]
  },
  {
   "cell_type": "code",
   "execution_count": 244,
   "metadata": {
    "id": "KhopLN33N_Nw"
   },
   "outputs": [],
   "source": [
    "# Одна эпоха прошла"
   ]
  },
  {
   "cell_type": "code",
   "execution_count": 245,
   "metadata": {
    "colab": {
     "base_uri": "https://localhost:8080/",
     "height": 235
    },
    "id": "SIGFnAeMN_Nz",
    "outputId": "e225e2b2-28dd-4ffa-d8b6-fd42ebca2e08"
   },
   "outputs": [
    {
     "data": {
      "image/png": "[encoded data removed]",
      "text/plain": [
       "<Figure size 1008x864 with 1 Axes>"
      ]
     },
     "metadata": {
      "needs_background": "light"
     },
     "output_type": "display_data"
    }
   ],
   "source": [
    "plt.figure(figsize=(14, 12))\n",
    "plt.plot(losses)\n",
    "plt.grid()\n",
    "plt.title('Training process')\n",
    "plt.xlabel('Iterations')\n",
    "plt.ylabel('Loss function');"
   ]
  },
  {
   "cell_type": "markdown",
   "metadata": {
    "id": "8oBFJlYrN_N3"
   },
   "source": [
    "# Теперь мы можем что-то предсказать"
   ]
  },
  {
   "cell_type": "code",
   "execution_count": 246,
   "metadata": {
    "id": "pYQ-5cXnN_N4"
   },
   "outputs": [],
   "source": [
    "for x, y in test_loader:\n",
    "\n",
    "    x = x.view(x.shape[0], -1)\n",
    "    y = y.unsqueeze(1).float()\n",
    "    \n",
    "    # чтобы не ходить по всему тестовому датасету, прекратим ходить после первой итерации\n",
    "    break"
   ]
  },
  {
   "cell_type": "code",
   "execution_count": 247,
   "metadata": {
    "id": "Rb3ImXPNN_N_",
    "outputId": "a9ea50e8-2230-4b85-b1e2-d75408597581"
   },
   "outputs": [
    {
     "data": {
      "text/plain": [
       "torch.Size([128, 784])"
      ]
     },
     "execution_count": 247,
     "metadata": {},
     "output_type": "execute_result"
    }
   ],
   "source": [
    "x.shape"
   ]
  },
  {
   "cell_type": "code",
   "execution_count": 248,
   "metadata": {
    "id": "5V_GO6_zN_OE",
    "outputId": "b12de3e1-6478-42b4-82a4-230411f251a6"
   },
   "outputs": [
    {
     "data": {
      "text/plain": [
       "torch.Size([128, 1])"
      ]
     },
     "execution_count": 248,
     "metadata": {},
     "output_type": "execute_result"
    }
   ],
   "source": [
    "y.shape"
   ]
  },
  {
   "cell_type": "code",
   "execution_count": 249,
   "metadata": {
    "id": "_zHM8GRpN_OG",
    "outputId": "1526be79-e75b-4b8f-c7e0-771c0e7960ba"
   },
   "outputs": [
    {
     "data": {
      "text/plain": [
       "MLP(\n",
       "  (linear_1): Linear(in_features=784, out_features=256, bias=True)\n",
       "  (non_linear_function): ReLU()\n",
       "  (linear_2): Linear(in_features=256, out_features=1, bias=True)\n",
       "  (sigmoid): Sigmoid()\n",
       ")"
      ]
     },
     "execution_count": 249,
     "metadata": {},
     "output_type": "execute_result"
    }
   ],
   "source": [
    "# переходим в режим предсказания\n",
    "# \n",
    "# позже в курсе мы разберем зачем конкретно это нужно\n",
    "# \n",
    "# для искушенного нетерпеливого читателя: дропаут больше не дропаутит, батч норм больше не нормирует каждый батч\n",
    "# а использует накопленную статистику при обучении и тд\n",
    "# \n",
    "model.eval()"
   ]
  },
  {
   "cell_type": "code",
   "execution_count": 250,
   "metadata": {
    "id": "CT4N0ZAPN_OI"
   },
   "outputs": [],
   "source": [
    "# этот контект позволяет не сохранять необходимую информацию для рассчета градиентов\n",
    "with torch.no_grad():\n",
    "\n",
    "    pred = model(x)"
   ]
  },
  {
   "cell_type": "code",
   "execution_count": 251,
   "metadata": {
    "id": "R48ZI_iJN_OK",
    "outputId": "193d89f9-61e1-4a96-8445-7b47d57ff8d1"
   },
   "outputs": [
    {
     "data": {
      "text/plain": [
       "torch.Size([128, 1])"
      ]
     },
     "execution_count": 251,
     "metadata": {},
     "output_type": "execute_result"
    }
   ],
   "source": [
    "pred.shape"
   ]
  },
  {
   "cell_type": "code",
   "execution_count": 252,
   "metadata": {
    "id": "Azbcidg1N_OM"
   },
   "outputs": [],
   "source": [
    "# избавимся от единичной размерности\n",
    "pred = pred.squeeze()\n",
    "y = y.squeeze()"
   ]
  },
  {
   "cell_type": "code",
   "execution_count": 253,
   "metadata": {
    "id": "L7zm8vzBN_OO",
    "outputId": "67f0fe47-50f7-44c8-9148-701fdec25e1f"
   },
   "outputs": [
    {
     "data": {
      "text/plain": [
       "torch.Size([128])"
      ]
     },
     "execution_count": 253,
     "metadata": {},
     "output_type": "execute_result"
    }
   ],
   "source": [
    "pred.shape"
   ]
  },
  {
   "cell_type": "code",
   "execution_count": 254,
   "metadata": {
    "id": "JBARJLDIN_OT"
   },
   "outputs": [],
   "source": [
    "# таким образом из торчовых тензоров мы можем сделать нумпаевские массивы\n",
    "pred = pred.numpy()\n",
    "y = y.numpy()"
   ]
  },
  {
   "cell_type": "code",
   "execution_count": 255,
   "metadata": {
    "id": "8Y4gi0q7N_OZ",
    "outputId": "a170d0d4-c6a8-408e-c3bf-1148de786113"
   },
   "outputs": [
    {
     "data": {
      "text/plain": [
       "array([1., 1., 0., 1., 0., 0., 1., 1., 1., 0., 0., 1., 0., 1., 0., 1., 1.,\n",
       "       0., 1., 1., 1., 1., 0., 0., 0., 1., 1., 0., 1., 1., 1., 1., 1., 0.,\n",
       "       1., 0., 1., 0., 1., 0., 0., 0., 0., 0., 1., 1., 1., 0., 0., 1., 1.,\n",
       "       0., 1., 1., 1., 1., 0., 1., 1., 1., 0., 0., 0., 0., 1., 0., 0., 1.,\n",
       "       0., 0., 1., 0., 1., 0., 0., 1., 0., 0., 1., 1., 1., 1., 0., 1., 0.,\n",
       "       0., 0., 0., 0., 0., 1., 1., 0., 1., 0., 0., 0., 1., 0., 1., 0., 0.,\n",
       "       0., 0., 0., 1., 1., 1., 1., 0., 0., 0., 0., 0., 0., 1., 1., 0., 0.,\n",
       "       1., 0., 1., 1., 0., 1., 0., 0., 1.], dtype=float32)"
      ]
     },
     "execution_count": 255,
     "metadata": {},
     "output_type": "execute_result"
    }
   ],
   "source": [
    "y"
   ]
  },
  {
   "cell_type": "code",
   "execution_count": 256,
   "metadata": {
    "id": "QPlZdMfiN_Og",
    "outputId": "3673c2d3-fffe-4112-97d7-a31c06691daa"
   },
   "outputs": [
    {
     "data": {
      "text/plain": [
       "numpy.ndarray"
      ]
     },
     "execution_count": 256,
     "metadata": {},
     "output_type": "execute_result"
    }
   ],
   "source": [
    "type(y)"
   ]
  },
  {
   "cell_type": "code",
   "execution_count": 257,
   "metadata": {
    "id": "Ck7Voa7HN_Ok"
   },
   "outputs": [],
   "source": [
    "# бинаризируем наши предсказания\n",
    "pred[pred > 0.5] = 1\n",
    "pred[pred <= 0.5] = 0"
   ]
  },
  {
   "cell_type": "code",
   "execution_count": 258,
   "metadata": {
    "id": "Ts85uzXFN_Om",
    "outputId": "62122006-ec73-4b48-ccb2-ca6ad01d42a2"
   },
   "outputs": [
    {
     "data": {
      "text/plain": [
       "0.96875"
      ]
     },
     "execution_count": 258,
     "metadata": {},
     "output_type": "execute_result"
    }
   ],
   "source": [
    "# посчитаем метрику на батче\n",
    "accuracy_score(y, pred)"
   ]
  },
  {
   "cell_type": "code",
   "execution_count": 259,
   "metadata": {
    "id": "yoynJ1-2N_Op"
   },
   "outputs": [],
   "source": [
    "# заново определим нашу модель и выучимся несколько эпох\n",
    "# будут уже новые параметры\n",
    "model = MLP(in_features=784, inner_features=256, out_features=1)\n",
    "\n",
    "criterion = torch.nn.BCELoss()\n",
    "# мы позже поговорим про этот оптимизационный алгоритм\n",
    "optimizer = torch.optim.Adam(params=model.parameters())"
   ]
  },
  {
   "cell_type": "markdown",
   "metadata": {
    "id": "hzBgaRe7N_Os"
   },
   "source": [
    "# Типичный цикл обучения с кучей сохранений лоссов"
   ]
  },
  {
   "cell_type": "code",
   "execution_count": 260,
   "metadata": {
    "id": "1zO6ruQbN_Ot",
    "outputId": "7d4304f2-a0f5-4c08-bd00-098719fe4df9"
   },
   "outputs": [
    {
     "name": "stderr",
     "output_type": "stream",
     "text": [
      "Epoch 1: 100%|██████████| 12396/12396 [00:03<00:00, 3132.94it/s, train_loss=0.0661]\n",
      "Epoch 2:   4%|▍         | 512/12396 [00:00<00:03, 3716.47it/s, train_loss=0.0549]"
     ]
    },
    {
     "name": "stdout",
     "output_type": "stream",
     "text": [
      "Losses: train - 0.066, test = 0.090\n",
      "Test: accuracy - 0.972\n"
     ]
    },
    {
     "name": "stderr",
     "output_type": "stream",
     "text": [
      "Epoch 2: 100%|██████████| 12396/12396 [00:03<00:00, 3834.86it/s, train_loss=0.0299]\n",
      "Epoch 3:   4%|▍         | 512/12396 [00:00<00:03, 3784.97it/s, train_loss=0.0294]"
     ]
    },
    {
     "name": "stdout",
     "output_type": "stream",
     "text": [
      "Losses: train - 0.030, test = 0.039\n",
      "Test: accuracy - 0.986\n"
     ]
    },
    {
     "name": "stderr",
     "output_type": "stream",
     "text": [
      "Epoch 3: 100%|██████████| 12396/12396 [00:04<00:00, 3045.04it/s, train_loss=0.0216]\n",
      "Epoch 4:   2%|▏         | 256/12396 [00:00<00:05, 2210.27it/s, train_loss=0.0208]"
     ]
    },
    {
     "name": "stdout",
     "output_type": "stream",
     "text": [
      "Losses: train - 0.021, test = 0.027\n",
      "Test: accuracy - 0.990\n"
     ]
    },
    {
     "name": "stderr",
     "output_type": "stream",
     "text": [
      "Epoch 4: 100%|██████████| 12396/12396 [00:04<00:00, 3088.67it/s, train_loss=0.012] \n",
      "Epoch 5:   4%|▍         | 512/12396 [00:00<00:03, 3751.65it/s, train_loss=0.0108]"
     ]
    },
    {
     "name": "stdout",
     "output_type": "stream",
     "text": [
      "Losses: train - 0.011, test = 0.020\n",
      "Test: accuracy - 0.993\n"
     ]
    },
    {
     "name": "stderr",
     "output_type": "stream",
     "text": [
      "Epoch 5: 100%|██████████| 12396/12396 [00:03<00:00, 3532.81it/s, train_loss=0.00685]\n"
     ]
    },
    {
     "name": "stdout",
     "output_type": "stream",
     "text": [
      "Losses: train - 0.007, test = 0.021\n",
      "Test: accuracy - 0.994\n",
      "Early stopping\n"
     ]
    }
   ],
   "source": [
    "epochs = 10\n",
    "losses = []\n",
    "# нужно для early stopping, то есть трекать лучший лосс на валидации\n",
    "best_test_loss = 10.\n",
    "\n",
    "for n_epoch in range(epochs):\n",
    "    \n",
    "    train_losses = []\n",
    "    test_losses = []\n",
    "    test_preds = []\n",
    "    test_targets = []\n",
    "    \n",
    "    progress_bar = tqdm(total=len(train_loader.dataset), desc='Epoch {}'.format(n_epoch + 1))\n",
    "    \n",
    "    for x, y in train_loader:\n",
    "        \n",
    "        x = x.view(x.shape[0], -1)\n",
    "        y = y.unsqueeze(1).float()\n",
    "        \n",
    "        optimizer.zero_grad()\n",
    "        \n",
    "        pred = model(x)\n",
    "        \n",
    "        loss = criterion(pred, y.float())\n",
    "        \n",
    "        loss.backward()\n",
    "        \n",
    "        optimizer.step()\n",
    "        \n",
    "        train_losses.append(loss.item())\n",
    "        losses.append(loss.item())\n",
    "        \n",
    "        progress_bar.set_postfix(train_loss = np.mean(losses[-100:]))\n",
    "\n",
    "        progress_bar.update(x.shape[0])\n",
    "        \n",
    "    progress_bar.close()\n",
    "    \n",
    "    for x, y in test_loader:\n",
    "        \n",
    "        x = x.view(x.shape[0], -1)\n",
    "        y = y.unsqueeze(1).float()\n",
    "\n",
    "        with torch.no_grad():\n",
    "            \n",
    "            pred = model(x)\n",
    "            \n",
    "        test_preds.append(pred.numpy())\n",
    "        test_targets.append(y.numpy())\n",
    "\n",
    "        loss = criterion(pred, y)\n",
    "\n",
    "        test_losses.append(loss.item())\n",
    "        \n",
    "    mean_test_loss = np.mean(test_losses)\n",
    "        \n",
    "    print('Losses: train - {:.3f}, test = {:.3f}'.format(np.mean(train_losses), mean_test_loss))\n",
    "    \n",
    "    test_preds = np.concatenate(test_preds)\n",
    "    test_preds = test_preds.squeeze()\n",
    "    test_targets = np.concatenate(test_targets).squeeze()\n",
    "    \n",
    "    test_preds[test_preds > 0.5] = 1\n",
    "    test_preds[test_preds <= 0.5] = 0\n",
    "    \n",
    "    accurary = accuracy_score(test_targets, test_preds)\n",
    "\n",
    "    print('Test: accuracy - {:.3f}'.format(accurary))\n",
    "        \n",
    "    # как раз early stopping\n",
    "    # то есть: если наша функция потерь на валидационном датасете стала расти, то прекращаем обучение\n",
    "    # рост фунции потерь на валидационном датасете говорит о переобучении\n",
    "    # пожалуй, самый популярный метод валидации для нейронных сетей\n",
    "    if mean_test_loss < best_test_loss:\n",
    "        best_test_loss = mean_test_loss\n",
    "    else:\n",
    "        print('Early stopping')\n",
    "        break    "
   ]
  },
  {
   "cell_type": "code",
   "execution_count": 261,
   "metadata": {
    "id": "U4URcBJPN_Ow",
    "outputId": "c5b2dd03-5307-4d95-80e5-99a3b65a3f65"
   },
   "outputs": [
    {
     "data": {
      "image/png": "[encoded data removed]",
      "text/plain": [
       "<Figure size 1008x864 with 1 Axes>"
      ]
     },
     "metadata": {
      "needs_background": "light"
     },
     "output_type": "display_data"
    }
   ],
   "source": [
    "plt.figure(figsize=(14, 12))\n",
    "plt.plot(losses)\n",
    "plt.grid()\n",
    "plt.title('Training process')\n",
    "plt.xlabel('Iterations')\n",
    "plt.ylabel('Loss function');"
   ]
  }
 ],
 "metadata": {
  "accelerator": "GPU",
  "colab": {
   "name": "Homework1Part1.ipynb",
   "provenance": []
  },
  "kernelspec": {
   "display_name": "Python 3",
   "language": "python",
   "name": "python3"
  },
  "language_info": {
   "codemirror_mode": {
    "name": "ipython",
    "version": 3
   },
   "file_extension": ".py",
   "mimetype": "text/x-python",
   "name": "python",
   "nbconvert_exporter": "python",
   "pygments_lexer": "ipython3",
   "version": "3.7.6"
  }
 },
 "nbformat": 4,
 "nbformat_minor": 1
}
